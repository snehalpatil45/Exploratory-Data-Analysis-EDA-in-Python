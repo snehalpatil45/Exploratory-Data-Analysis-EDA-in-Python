{
 "cells": [
  {
   "cell_type": "code",
   "execution_count": null,
   "id": "cd5d2fa6-1a53-43ed-be53-aa28aa2ed910",
   "metadata": {},
   "outputs": [],
   "source": [
    "#Task 1 - L1\n",
    "import pandas as pd\n",
    "import matplotlib.pyplot as plt\n",
    "\n",
    "df = pd.read_csv(r\"C:\\Users\\ASUS\\Downloads\\Dataset.csv\")\n",
    "print(\"Dataset Shape:\", df.shape)\n",
    "print(\"\\nMissing Values:\")\n",
    "print(df.isnull().sum())\n",
    "df['Cuisines'] = df['Cuisines'].fillna('Unknown')\n",
    "yes_no_columns = ['Has Table booking', 'Has Online delivery', 'Is delivering now', 'Switch to order menu']\n",
    "\n",
    "for col in yes_no_columns:\n",
    "    if col in df.columns:\n",
    "        df[col] = df[col].map({'Yes': 1, 'No': 0})\n",
    "print(\"\\nData Types After Conversion:\")\n",
    "print(df.dtypes)\n",
    "\n",
    "rating_counts = df['Aggregate rating'].value_counts().sort_index()\n",
    "print(\"\\nAggregate Rating Distribution:\")\n",
    "print(rating_counts)\n",
    "\n",
    "plt.figure(figsize=(10, 5))\n",
    "rating_counts.plot(kind='bar', color='skyblue')\n",
    "plt.xlabel('Aggregate Rating')\n",
    "plt.ylabel('Number of Restaurants')\n",
    "plt.title('Distribution of Aggregate Rating')\n",
    "plt.xticks(rotation=0)\n",
    "plt.grid(axis='y')\n",
    "plt.tight_layout()\n",
    "plt.show()\n"
   ]
  }
 ],
 "metadata": {
  "kernelspec": {
   "display_name": "Python 3 (ipykernel)",
   "language": "python",
   "name": "python3"
  },
  "language_info": {
   "codemirror_mode": {
    "name": "ipython",
    "version": 3
   },
   "file_extension": ".py",
   "mimetype": "text/x-python",
   "name": "python",
   "nbconvert_exporter": "python",
   "pygments_lexer": "ipython3",
   "version": "3.12.5"
  }
 },
 "nbformat": 4,
 "nbformat_minor": 5
}
